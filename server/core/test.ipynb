{
 "cells": [
  {
   "cell_type": "code",
   "execution_count": 4,
   "metadata": {},
   "outputs": [],
   "source": [
    "from arachne import FloatTensor, Linear, Pipeline, Relu, MSELoss, SGD, IntPair\n",
    "import matplotlib.pyplot as plt"
   ]
  },
  {
   "cell_type": "code",
   "execution_count": 9,
   "metadata": {},
   "outputs": [
    {
     "ename": "",
     "evalue": "",
     "output_type": "error",
     "traceback": [
      "\u001b[1;31mThe Kernel crashed while executing code in the the current cell or a previous cell. Please review the code in the cell(s) to identify a possible cause of the failure. Click <a href='https://aka.ms/vscodeJupyterKernelCrash'>here</a> for more info. View Jupyter <a href='command:jupyter.viewOutput'>log</a> for further details."
     ]
    }
   ],
   "source": [
    "dat = FloatTensor.readCSV(\"WineQT.csv\")\n",
    "\n",
    "# Read the CSV file\n",
    "dat = FloatTensor.readCSV(\"WineQT.csv\")\n",
    "\n",
    "# Normalize the data\n",
    "dat = dat.Normalize()\n",
    "\n",
    "# Split the data into input and output\n",
    "ind = [11]\n",
    "vals = dat.input_output_split(ind)\n",
    "input = vals[0]\n",
    "output = vals[1]\n",
    "\n",
    "# Split the input and output into rows\n",
    "input_list = input.row_split()\n",
    "output_list = output.row_split()\n",
    "\n",
    "# Create the pipeline\n",
    "myPipeline = Pipeline()\n",
    "size = IntPair(1,12)\n",
    "q = Linear(size,6)\n",
    "r = Relu(IntPair(1,6))\n",
    "d = Linear(IntPair(1,6),3)\n",
    "e = Relu(IntPair(1,3))\n",
    "f = Linear(IntPair(1,3),1)\n",
    "g = Relu(IntPair(1,1))\n",
    "# Add the layers to the pipeline\n",
    "myPipeline.add(q)\n",
    "myPipeline.add(r)\n",
    "myPipeline.add(d)\n",
    "myPipeline.add(e)\n",
    "myPipeline.add(f)\n",
    "myPipeline.add(g)\n",
    "\n",
    "# Print the pipeline\n",
    "myPipeline.printPipeline()\n",
    "\n",
    "# Create the optimizer\n",
    "optimizer = SGD(1e-4)\n",
    "\n",
    "a = MSELoss()"
   ]
  },
  {
   "cell_type": "code",
   "execution_count": 6,
   "metadata": {},
   "outputs": [
    {
     "name": "stdout",
     "output_type": "stream",
     "text": [
      "Epoch 1, Loss: 1.1398779153823853\n",
      "Epoch 2, Loss: 0.6061683893203735\n",
      "Epoch 3, Loss: 0.4146265983581543\n",
      "Epoch 4, Loss: 0.31484219431877136\n",
      "Epoch 5, Loss: 0.25325673818588257\n",
      "Epoch 6, Loss: 0.21130947768688202\n",
      "Epoch 7, Loss: 0.18082602322101593\n",
      "Epoch 8, Loss: 0.15762744843959808\n",
      "Epoch 9, Loss: 0.13935692608356476\n",
      "Epoch 10, Loss: 0.12457526475191116\n"
     ]
    }
   ],
   "source": [
    "losses = []\n",
    "# Train the model\n",
    "for j in range(10):\n",
    "    for i in range(len(input_list)):\n",
    "        prediction = myPipeline.forwardFloat(input_list[i])\n",
    "\n",
    "        loss = (a.loss(prediction, output_list[i]))\n",
    "\n",
    "        myPipeline.backward(optimizer, a, output_list[i])\n",
    "    print(f\"Epoch {j+1}, Loss: {loss}\")\n",
    "    losses.append(loss)"
   ]
  },
  {
   "cell_type": "code",
   "execution_count": 7,
   "metadata": {},
   "outputs": [
    {
     "data": {
      "text/plain": [
       "[<matplotlib.lines.Line2D at 0x7df859199690>]"
      ]
     },
     "execution_count": 7,
     "metadata": {},
     "output_type": "execute_result"
    },
    {
     "data": {
      "image/png": "[encoded data removed]",
      "text/plain": [
       "<Figure size 640x480 with 1 Axes>"
      ]
     },
     "metadata": {},
     "output_type": "display_data"
    }
   ],
   "source": [
    "plt.plot(losses)"
   ]
  },
  {
   "cell_type": "code",
   "execution_count": 8,
   "metadata": {},
   "outputs": [],
   "source": [
    "del loss"
   ]
  },
  {
   "cell_type": "code",
   "execution_count": null,
   "metadata": {},
   "outputs": [],
   "source": []
  },
  {
   "cell_type": "code",
   "execution_count": 5,
   "metadata": {},
   "outputs": [],
   "source": [
    "del q"
   ]
  },
  {
   "cell_type": "code",
   "execution_count": 9,
   "metadata": {},
   "outputs": [
    {
     "ename": "NameError",
     "evalue": "name 'q' is not defined",
     "output_type": "error",
     "traceback": [
      "\u001b[0;31m---------------------------------------------------------------------------\u001b[0m",
      "\u001b[0;31mNameError\u001b[0m                                 Traceback (most recent call last)",
      "\u001b[1;32m/home/aansh/pp_project/server/core/test.ipynb Cell 8\u001b[0m line \u001b[0;36m1\n\u001b[0;32m----> <a href='vscode-notebook-cell:/home/aansh/pp_project/server/core/test.ipynb#X10sZmlsZQ%3D%3D?line=0'>1</a>\u001b[0m \u001b[39mdel\u001b[39;00m q\n",
      "\u001b[0;31mNameError\u001b[0m: name 'q' is not defined"
     ]
    }
   ],
   "source": []
  },
  {
   "cell_type": "code",
   "execution_count": 3,
   "metadata": {},
   "outputs": [
    {
     "name": "stdout",
     "output_type": "stream",
     "text": [
      "[]\n",
      "[]\n"
     ]
    }
   ],
   "source": [
    "a = []\n",
    "print(a)\n",
    "del a\n",
    "a = []\n",
    "print(a)"
   ]
  },
  {
   "cell_type": "code",
   "execution_count": null,
   "metadata": {},
   "outputs": [],
   "source": []
  }
 ],
 "metadata": {
  "kernelspec": {
   "display_name": "Python 3",
   "language": "python",
   "name": "python3"
  },
  "language_info": {
   "codemirror_mode": {
    "name": "ipython",
    "version": 3
   },
   "file_extension": ".py",
   "mimetype": "text/x-python",
   "name": "python",
   "nbconvert_exporter": "python",
   "pygments_lexer": "ipython3",
   "version": "3.10.12"
  }
 },
 "nbformat": 4,
 "nbformat_minor": 2
}
